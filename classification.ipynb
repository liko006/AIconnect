{
 "cells": [
  {
   "cell_type": "markdown",
   "id": "ec5aa74f-a82b-4581-bd06-dbaa5b3df732",
   "metadata": {},
   "source": [
    "### Library import for preprocessing data"
   ]
  },
  {
   "cell_type": "code",
   "execution_count": null,
   "id": "1b26d129-d46b-4936-8d40-b7c0a6ae00f2",
   "metadata": {},
   "outputs": [],
   "source": [
    "import os\n",
    "import time\n",
    "import numpy as np\n",
    "import pandas as pd\n",
    "import seaborn as sns\n",
    "import matplotlib.pyplot as plt\n",
    "from scipy.stats import norm\n",
    "\n",
    "from autoimpute.imputations import SingleImputer, MultipleImputer, MiceImputer\n",
    "from impyute.imputation import cs\n",
    "from sklearn.experimental import enable_iterative_imputer\n",
    "from sklearn.impute import IterativeImputer"
   ]
  },
  {
   "cell_type": "markdown",
   "id": "29e9d0bc-1c95-41cb-85d4-3f73f5cc216e",
   "metadata": {},
   "source": [
    "### Prepare Data"
   ]
  },
  {
   "cell_type": "code",
   "execution_count": null,
   "id": "0369f0b9-4cbd-4355-bcb1-b24504f35d46",
   "metadata": {},
   "outputs": [],
   "source": [
    "df = pd.read_csv('data/train.csv', encoding='utf-8')\n",
    "df.head()"
   ]
  },
  {
   "cell_type": "code",
   "execution_count": null,
   "id": "2942584f-da24-472c-a43d-b31576d2248b",
   "metadata": {},
   "outputs": [],
   "source": [
    "df_zero = df.replace(np.nan, 0.0)\n",
    "df_nan = df_zero.replace(0.0, np.nan)"
   ]
  },
  {
   "cell_type": "code",
   "execution_count": null,
   "id": "602d4601-9064-44a9-99fe-645b4f474157",
   "metadata": {},
   "outputs": [],
   "source": [
    "df_drop = df_nan.dropna()"
   ]
  },
  {
   "cell_type": "code",
   "execution_count": null,
   "id": "5bfc50c5-27fd-41cc-8e61-2e7e140ce4c9",
   "metadata": {},
   "outputs": [],
   "source": [
    "df_drop.describe().T"
   ]
  },
  {
   "cell_type": "markdown",
   "id": "10cc6eb6-47b0-4a86-b9e3-eae03b76f0c3",
   "metadata": {},
   "source": [
    "### Impute NaN data"
   ]
  },
  {
   "cell_type": "code",
   "execution_count": null,
   "id": "25b7adeb-9241-4ba6-856d-590b5a850dba",
   "metadata": {},
   "outputs": [],
   "source": [
    "feats = df_nan[['누적전력량', '유효전력평균', '무효전력평균', '주파수', '전류평균', '상전압평균', '선간전압평균',\n",
    "       '온도', 'R상유효전력', 'R상무효전력', 'R상전류', 'R상전압', 'R상선간전압', 'S상유효전력', 'S상무효전력',\n",
    "       'S상전류', 'S상전압', 'S상선간전압', 'T상유효전력', 'T상무효전력', 'T상전류', 'T상전압', 'T상선간전압']]"
   ]
  },
  {
   "cell_type": "code",
   "execution_count": null,
   "id": "3559ee1c-cb89-4202-b66f-9321103a08bc",
   "metadata": {},
   "outputs": [],
   "source": [
    "imp = IterativeImputer(sample_posterior=True, random_state=42)\n",
    "imp_df = imp.fit_transform(feats)"
   ]
  },
  {
   "cell_type": "code",
   "execution_count": null,
   "id": "a0b79183-da37-4b3e-bd8b-fbd38b030827",
   "metadata": {},
   "outputs": [],
   "source": [
    "imp_df = pd.DataFrame(imp_df, columns=feats.columns)"
   ]
  },
  {
   "cell_type": "code",
   "execution_count": null,
   "id": "ac53b1fc-ed8e-4294-87f5-3f90ac4142f1",
   "metadata": {},
   "outputs": [],
   "source": [
    "imp_df.head()"
   ]
  },
  {
   "cell_type": "code",
   "execution_count": null,
   "id": "d1b335d7-3f34-48c3-afea-60bd4bcf8195",
   "metadata": {},
   "outputs": [],
   "source": [
    "plt.figure(figsize=(10,6))\n",
    "sns.lineplot(data=imp_df_comp_idx[:1000], x='index', y='T상선간전압')\n",
    "plt.show()"
   ]
  },
  {
   "cell_type": "code",
   "execution_count": null,
   "id": "33ba9bf5-81ec-4d0c-9ad9-860dabdf548a",
   "metadata": {},
   "outputs": [],
   "source": [
    "sing = SingleImputer(strategy='norm')"
   ]
  },
  {
   "cell_type": "code",
   "execution_count": null,
   "id": "5e2826fa-b9e0-4b77-a646-a5f3a428f0d6",
   "metadata": {},
   "outputs": [],
   "source": [
    "sing_df = sing.fit_transform(feats)"
   ]
  },
  {
   "cell_type": "code",
   "execution_count": null,
   "id": "b8e98fc1-a49f-4831-a7a1-730937b0129d",
   "metadata": {},
   "outputs": [],
   "source": [
    "sing_df.head()"
   ]
  },
  {
   "cell_type": "code",
   "execution_count": null,
   "id": "82241929-ed39-461d-815e-8658aa4498f1",
   "metadata": {},
   "outputs": [],
   "source": [
    "multim = MultipleImputer(n=1, strategy='least squares', return_list=True)"
   ]
  },
  {
   "cell_type": "code",
   "execution_count": null,
   "id": "17ecee23-584d-4d89-a3aa-6ea87bc9b805",
   "metadata": {
    "tags": []
   },
   "outputs": [],
   "source": [
    "imputed_df1 = multim.fit_transform(feats)"
   ]
  },
  {
   "cell_type": "code",
   "execution_count": null,
   "id": "c240d2ed-6b7a-41e6-bbb3-b1e5d825c110",
   "metadata": {},
   "outputs": [],
   "source": [
    "dff = imputed_df1[0][1].copy()"
   ]
  },
  {
   "cell_type": "code",
   "execution_count": null,
   "id": "523483cd-3c0f-4e92-b4df-e4a8f6f4d652",
   "metadata": {},
   "outputs": [],
   "source": [
    "dff.describe().T"
   ]
  },
  {
   "cell_type": "code",
   "execution_count": null,
   "id": "b86ed5ec-a81e-48ce-abea-172a3b77d6a3",
   "metadata": {},
   "outputs": [],
   "source": [
    "em_imput_df = cs.em(np.array(feats1), loop=5)"
   ]
  },
  {
   "cell_type": "code",
   "execution_count": null,
   "id": "ee93624c-67a8-4328-80a7-509f1eaacfa4",
   "metadata": {},
   "outputs": [],
   "source": [
    "em_imput_df = pd.DataFrame(em_imput_df, columns=feats1.columns)"
   ]
  },
  {
   "cell_type": "code",
   "execution_count": null,
   "id": "8d2e2255-4581-4b0c-a194-39559b9ffc16",
   "metadata": {},
   "outputs": [],
   "source": [
    "em_imput_df.head()"
   ]
  },
  {
   "cell_type": "code",
   "execution_count": null,
   "id": "4d3e1550-0491-44bb-bcee-c11016fba51c",
   "metadata": {},
   "outputs": [],
   "source": [
    "knn_imput_df = cs.fast_knn(np.array(feats1), k=7)"
   ]
  },
  {
   "cell_type": "markdown",
   "id": "32b18682-1e19-4670-9684-c4dbffb8296a",
   "metadata": {},
   "source": [
    "### Library import for learnings"
   ]
  },
  {
   "cell_type": "code",
   "execution_count": null,
   "id": "4fab883b-0bee-48ff-993c-51a6bc59c67e",
   "metadata": {},
   "outputs": [],
   "source": [
    "import sklearn\n",
    "from sklearn.model_selection import train_test_split, cross_val_score, KFold, StratifiedKFold, GridSearchCV, RandomizedSearchCV\n",
    "from sklearn.preprocessing import MinMaxScaler, StandardScaler\n",
    "from sklearn.metrics import multilabel_confusion_matrix, accuracy_score\n",
    "from sklearn.metrics import f1_score, classification_report\n",
    "\n",
    "from sklearn.ensemble import RandomForestClassifier\n",
    "from lightgbm import LGBMClassifier\n",
    "from xgboost import XGBClassifier"
   ]
  },
  {
   "cell_type": "code",
   "execution_count": null,
   "id": "1a256a4a-37b0-4452-a163-d758d7f5652c",
   "metadata": {},
   "outputs": [],
   "source": [
    "df_X_train = df_zero[['누적전력량', '유효전력평균', '무효전력평균', '주파수', '전류평균', '상전압평균', '선간전압평균',\n",
    "       '온도', 'R상유효전력', 'R상무효전력', 'R상전류', 'R상전압', 'R상선간전압', 'S상유효전력', 'S상무효전력',\n",
    "       'S상전류', 'S상전압', 'S상선간전압', 'T상유효전력', 'T상무효전력', 'T상전류', 'T상전압', 'T상선간전압']]\n",
    "\n",
    "df_y_train = df_zero[['label_역률평균', 'label_전류고조파평균', 'label_전압고조파평균']].replace({'정상': 0,'주의': 1,'경고': 2})"
   ]
  },
  {
   "cell_type": "code",
   "execution_count": null,
   "id": "9c8fb852-1715-4928-9ba4-fbd7c649e3c5",
   "metadata": {},
   "outputs": [],
   "source": [
    "df_X_train = sing_df.copy()\n",
    "df_y_train = df[['label_역률평균', 'label_전류고조파평균', 'label_전압고조파평균']].replace({'정상': 0,'주의': 1,'경고': 2})"
   ]
  },
  {
   "cell_type": "code",
   "execution_count": null,
   "id": "4d495d14-5f39-4e71-a8aa-2247757e6c2e",
   "metadata": {},
   "outputs": [],
   "source": [
    "df_X_train = imp_df_comp.copy()\n",
    "df_y_train = df_nan[['label_역률평균', 'label_전류고조파평균', 'label_전압고조파평균']].replace({'정상': 0,'주의': 1,'경고': 2})"
   ]
  },
  {
   "cell_type": "code",
   "execution_count": null,
   "id": "aa3f6cae-31ce-4dc5-ac5e-dfc90f11af20",
   "metadata": {},
   "outputs": [],
   "source": [
    "st_scaler = StandardScaler()\n",
    "st_scaled_train = st_scaler.fit_transform(df_X_train)\n",
    "st_scaled_X_train = pd.DataFrame(st_scaled_train, columns=df_X_train.columns)\n",
    "st_scaled_X_train.head()"
   ]
  },
  {
   "cell_type": "code",
   "execution_count": null,
   "id": "dc284df5-16b7-4969-9ee4-b8090bd17489",
   "metadata": {},
   "outputs": [],
   "source": [
    "mm_scaler = MinMaxScaler()\n",
    "mm_scaled_train = mm_scaler.fit_transform(df_X_train)\n",
    "mm_scaled_X_train = pd.DataFrame(mm_scaled_train, columns=df_X_train.columns)\n",
    "mm_scaled_X_train.head()"
   ]
  },
  {
   "cell_type": "code",
   "execution_count": null,
   "id": "f83fd509-5b95-41f2-af20-95b373816306",
   "metadata": {},
   "outputs": [],
   "source": [
    "xgb = XGBClassifier(booster='gbtree',\n",
    "                    max_depth=7,\n",
    "                    n_jobs=-1,\n",
    "                    objective='multi:softmax', \n",
    "                    silent=True, tree_method='gpu_hist', gpu_id=0, verbosity=3)\n",
    "\n",
    "xgb2 = XGBClassifier(booster='gbtree',\n",
    "                    max_depth=7,\n",
    "                    n_jobs=-1,\n",
    "                    objective='multi:softmax', \n",
    "                    silent=True, tree_method='gpu_hist', gpu_id=0, verbosity=3)\n",
    "\n",
    "xgb3 = XGBClassifier(booster='gbtree',\n",
    "                    max_depth=7,\n",
    "                    n_jobs=-1,\n",
    "                    objective='multi:softmax', \n",
    "                    silent=True, tree_method='gpu_hist', gpu_id=0, verbosity=3)"
   ]
  },
  {
   "cell_type": "code",
   "execution_count": null,
   "id": "0fe4729f-0d48-4b4f-8f3c-1f2c4542a100",
   "metadata": {},
   "outputs": [],
   "source": [
    "xgb = XGBClassifier(tree_method='gpu_hist', gpu_id=0)\n",
    "xgb2 = XGBClassifier(tree_method='gpu_hist', gpu_id=0)\n",
    "xgb3 = XGBClassifier(tree_method='gpu_hist', gpu_id=0)"
   ]
  },
  {
   "cell_type": "code",
   "execution_count": null,
   "id": "3a36f65a-170b-40c7-bb61-7c58e1e3ea9d",
   "metadata": {},
   "outputs": [],
   "source": [
    "param_grid={ 'booster':['gbtree'],\n",
    "             'max_depth':[10],\n",
    "             'min_child_weight':[3],\n",
    "             'subsample':[0.75],\n",
    "             'colsample_bytree':[1],\n",
    "             'gamma':[0],\n",
    "             'lambda':[0.001],\n",
    "             'reg_alpha':[1e-4],\n",
    "             'n_estimators':[100],\n",
    "             'objective':['multi:softmax'],\n",
    "             'random_state':[42] }"
   ]
  },
  {
   "cell_type": "markdown",
   "id": "963a638b-05d3-43d8-94d6-bd26eab851b9",
   "metadata": {},
   "source": [
    "### Training & Finding best Hyperparameters"
   ]
  },
  {
   "cell_type": "code",
   "execution_count": null,
   "id": "560da67b-097a-4bcc-9bcf-91f4d9f37ba1",
   "metadata": {},
   "outputs": [],
   "source": [
    "# set Kfold\n",
    "cv = StratifiedKFold(n_splits=5)\n",
    "\n",
    "# create GridSearchCV object\n",
    "gs_xgb = GridSearchCV(xgb, param_grid=param_grid, cv=cv, scoring='f1_macro', n_jobs=4, verbose=10)\n",
    "gs_xgb2 = GridSearchCV(xgb2, param_grid=param_grid, cv=cv, scoring='f1_macro', n_jobs=4, verbose=10)\n",
    "gs_xgb3 = GridSearchCV(xgb3, param_grid=param_grid, cv=cv, scoring='f1_macro', n_jobs=4, verbose=10)"
   ]
  },
  {
   "cell_type": "code",
   "execution_count": null,
   "id": "8a3257d3-a7f2-4f7a-92ec-ec8f517c2ffe",
   "metadata": {},
   "outputs": [],
   "source": [
    "df_p_train = df_y_train['label_역률평균']\n",
    "df_a_train = df_y_train['label_전류고조파평균']\n",
    "df_v_train = df_y_train['label_전압고조파평균']"
   ]
  },
  {
   "cell_type": "code",
   "execution_count": null,
   "id": "3968931d-3228-49f4-8869-5ff430c5a2a7",
   "metadata": {},
   "outputs": [],
   "source": [
    "start = time.time()\n",
    "gs_xgb.fit(st_scaled_X_train, df_p_train)\n",
    "end = time.time()\n",
    "\n",
    "print('elapsed time for 1st fit : ', ((end - start)/60))"
   ]
  },
  {
   "cell_type": "code",
   "execution_count": null,
   "id": "1b6c0050-791c-42f2-9443-e4d8fe989a7c",
   "metadata": {},
   "outputs": [],
   "source": [
    "gs_xgb.best_params_"
   ]
  },
  {
   "cell_type": "code",
   "execution_count": null,
   "id": "9cf972dd-5a54-4ac4-a35a-bf768fd5e823",
   "metadata": {},
   "outputs": [],
   "source": [
    "start2 = time.time()\n",
    "gs_xgb2.fit(st_scaled_X_train, df_a_train, verbose=False)\n",
    "end2 = time.time()\n",
    "\n",
    "print('elapsed time for 2nd fit : ', ((end2 - start2)/60))"
   ]
  },
  {
   "cell_type": "code",
   "execution_count": null,
   "id": "942e0e63-b530-45e8-a7ca-13cc4e0c9ca4",
   "metadata": {},
   "outputs": [],
   "source": [
    "gs_xgb2.best_params_"
   ]
  },
  {
   "cell_type": "code",
   "execution_count": null,
   "id": "c7dca3b1-1eb7-4a69-8e41-a2b72571ce5a",
   "metadata": {},
   "outputs": [],
   "source": [
    "start3 = time.time()\n",
    "gs_xgb3.fit(st_scaled_X_train, df_v_train, verbose=False)\n",
    "end3 = time.time()\n",
    "\n",
    "print('elapsed time for 3rd fit : ', ((end3 - start3)/60))"
   ]
  },
  {
   "cell_type": "code",
   "execution_count": null,
   "id": "199e789c-423b-4161-b639-285c11d29a63",
   "metadata": {},
   "outputs": [],
   "source": [
    "gs_xgb3.best_params_"
   ]
  },
  {
   "cell_type": "code",
   "execution_count": null,
   "id": "33dc9441-af95-4cc1-a0cc-1df641569ac3",
   "metadata": {},
   "outputs": [],
   "source": [
    "best_gs_xgb = gs_xgb.best_estimator_\n",
    "best_gs_xgb2 = gs_xgb2.best_estimator_\n",
    "best_gs_xgb3 = gs_xgb3.best_estimator_"
   ]
  },
  {
   "cell_type": "code",
   "execution_count": null,
   "id": "59086fa9-1b51-4f67-83a7-eb3f26896b39",
   "metadata": {},
   "outputs": [],
   "source": [
    "X_train, X_val, y_train, y_val = train_test_split(st_scaled_X_train, \n",
    "                                                  df_y_train, \n",
    "                                                  test_size=0.05, \n",
    "                                                  shuffle=True, \n",
    "                                                  random_state=42)\n",
    "p_train = y_train['label_역률평균']\n",
    "a_train = y_train['label_전류고조파평균']\n",
    "v_train = y_train['label_전압고조파평균']\n",
    "\n",
    "p_val = y_val['label_역률평균']\n",
    "a_val = y_val['label_전류고조파평균']\n",
    "v_val = y_val['label_전압고조파평균']"
   ]
  },
  {
   "cell_type": "code",
   "execution_count": null,
   "id": "725936f5-61c0-49e2-a643-d8e8328f1476",
   "metadata": {
    "tags": []
   },
   "outputs": [],
   "source": [
    "xgb_model = best_gs_xgb.fit(X_train, p_train)"
   ]
  },
  {
   "cell_type": "code",
   "execution_count": null,
   "id": "7f2c2483-0af6-4383-9cd2-f38c7e545955",
   "metadata": {
    "tags": []
   },
   "outputs": [],
   "source": [
    "xgb_model2 = best_gs_xgb2.fit(X_train, a_train)"
   ]
  },
  {
   "cell_type": "code",
   "execution_count": null,
   "id": "5a525955-40df-49ad-a6be-d51df9164385",
   "metadata": {
    "tags": []
   },
   "outputs": [],
   "source": [
    "xgb_model3 = best_gs_xgb3.fit(X_train, v_train)"
   ]
  },
  {
   "cell_type": "code",
   "execution_count": null,
   "id": "69cf5b14-bb33-45f4-af40-d1d8567b9ef0",
   "metadata": {
    "tags": []
   },
   "outputs": [],
   "source": [
    "xgb_model = xgb.fit(X_train, p_train)"
   ]
  },
  {
   "cell_type": "code",
   "execution_count": null,
   "id": "e2a9d245-b435-499a-b4f4-5829b105298d",
   "metadata": {
    "tags": []
   },
   "outputs": [],
   "source": [
    "xgb_model2 = xgb2.fit(X_train, a_train)"
   ]
  },
  {
   "cell_type": "code",
   "execution_count": null,
   "id": "a897521e-fd27-4f77-bc5e-0ed064dae229",
   "metadata": {
    "tags": []
   },
   "outputs": [],
   "source": [
    "xgb_model3 = xgb3.fit(X_train, v_train)"
   ]
  },
  {
   "cell_type": "code",
   "execution_count": null,
   "id": "c873af53-0891-4810-aa04-757204b3a86a",
   "metadata": {},
   "outputs": [],
   "source": [
    "pred1 = xgb_model.predict(X_val)\n",
    "print(classification_report(p_val, pred1))\n",
    "print(f1_score(p_val, pred1, average='macro'))"
   ]
  },
  {
   "cell_type": "code",
   "execution_count": null,
   "id": "85d401a6-c920-4ee3-bae4-f1fcc896ac5f",
   "metadata": {},
   "outputs": [],
   "source": [
    "pred2 = xgb_model2.predict(X_val)\n",
    "print(classification_report(a_val, pred2))\n",
    "print(f1_score(a_val, pred2, average='macro'))"
   ]
  },
  {
   "cell_type": "code",
   "execution_count": null,
   "id": "37df1b70-75b5-4c5b-b280-3d1f7c286eba",
   "metadata": {},
   "outputs": [],
   "source": [
    "pred3 = xgb_model3.predict(X_val)\n",
    "print(classification_report(v_val, pred3))\n",
    "print(f1_score(v_val, pred3, average='macro'))"
   ]
  },
  {
   "cell_type": "markdown",
   "id": "bc3d4d50-ca17-4dcc-836c-8b5074dc0468",
   "metadata": {},
   "source": [
    "#### Testing and Predicting"
   ]
  },
  {
   "cell_type": "code",
   "execution_count": null,
   "id": "51f012f6-8abc-4ed0-a02c-a6040aca5621",
   "metadata": {},
   "outputs": [],
   "source": [
    "df_test = pd.read_csv('data/test.csv', encoding='utf-8')"
   ]
  },
  {
   "cell_type": "code",
   "execution_count": null,
   "id": "7a078199-9a15-44a2-9a72-dff07d6cdcd5",
   "metadata": {},
   "outputs": [],
   "source": [
    "df_test_zero = df_test.replace(np.nan, 0.0)\n",
    "df_test_nan = df_test_zero.replace(0.0, np.nan)\n",
    "df_test_clean = df_test_nan.dropna()\n",
    "\n",
    "for i in range(24):\n",
    "    if i == 0:\n",
    "        continue\n",
    "    df_test_zero.iloc[:, i].replace(0.0, df_test_clean.iloc[:, i].median(), inplace=True)"
   ]
  },
  {
   "cell_type": "code",
   "execution_count": null,
   "id": "41e3f491-4281-4add-9645-15d6d4e88f93",
   "metadata": {},
   "outputs": [],
   "source": [
    "df_test_zero = df_test.replace(np.nan, 0.0)\n",
    "df_test_nan = df_test_zero.replace(0.0, np.nan)"
   ]
  },
  {
   "cell_type": "markdown",
   "id": "1bcb24ee-b424-41af-9e1e-b267bd0d1a8f",
   "metadata": {},
   "source": [
    "#### Imputed data version"
   ]
  },
  {
   "cell_type": "code",
   "execution_count": null,
   "id": "beb2ee66-b144-4946-a517-fbbd7a77ef17",
   "metadata": {},
   "outputs": [],
   "source": [
    "noID_test = df_test_zero.drop('ID', axis=1)\n",
    "imp_test = imp.transform(noID_test)\n",
    "train_scaler = st_scaler.fit(df_X_train)\n",
    "scaled_test = train_scaler.transform(imp_test)\n",
    "scaled_df_test = pd.DataFrame(scaled_test, columns=noID_test.columns)"
   ]
  },
  {
   "cell_type": "markdown",
   "id": "e7e6a05d-c6a6-441e-bd8d-fb567ef1fdeb",
   "metadata": {},
   "source": [
    "#### simple imputing 0 for NaN version"
   ]
  },
  {
   "cell_type": "code",
   "execution_count": null,
   "id": "093ae086-e835-45d5-977e-73120cd27e42",
   "metadata": {},
   "outputs": [],
   "source": [
    "noID_test = df_test_zero.drop('ID', axis=1)\n",
    "train_scaler = mm_scaler.fit(df_X_train)\n",
    "scaled_test = train_scaler.transform(noID_test)\n",
    "scaled_df_test = pd.DataFrame(scaled_test, columns=noID_test.columns)"
   ]
  },
  {
   "cell_type": "code",
   "execution_count": null,
   "id": "bf873ec6-c412-4f03-b518-a514846f522d",
   "metadata": {},
   "outputs": [],
   "source": [
    "noID_test = df_test_zero.drop('ID', axis=1)\n",
    "train_scaler = st_scaler.fit(df_X_train)\n",
    "scaled_test = train_scaler.transform(noID_test)\n",
    "scaled_df_test = pd.DataFrame(scaled_test, columns=noID_test.columns)"
   ]
  },
  {
   "cell_type": "code",
   "execution_count": null,
   "id": "b5c43868-f6c7-4d61-8f51-710fbdfb985a",
   "metadata": {},
   "outputs": [],
   "source": [
    "xgb_pred = xgb_model.predict(scaled_df_test).reshape(-1,1)\n",
    "xgb_pred2 = xgb_model2.predict(scaled_df_test).reshape(-1,1)\n",
    "xgb_pred3 = xgb_model3.predict(scaled_df_test).reshape(-1,1)"
   ]
  },
  {
   "cell_type": "code",
   "execution_count": null,
   "id": "676db1dc-5922-4414-9c4e-29988251594d",
   "metadata": {},
   "outputs": [],
   "source": [
    "xgb_pred_total = np.concatenate([xgb_pred, xgb_pred2, xgb_pred3], axis=1)\n",
    "\n",
    "df_ID = df_test['ID']\n",
    "df_pred = pd.DataFrame(xgb_pred_total, columns=['label_역률평균', 'label_전류고조파평균', 'label_전압고조파평균'])\n",
    "\n",
    "df_result = pd.concat([df_ID, df_pred], axis=1)\n",
    "\n",
    "df_result['label_역률평균'].replace({0:'정상', 1:'주의', 2:'경고'}, inplace=True)\n",
    "df_result['label_전류고조파평균'].replace({0:'정상', 1:'주의', 2:'경고'}, inplace=True)\n",
    "df_result['label_전압고조파평균'].replace({0:'정상', 1:'주의', 2:'경고'}, inplace=True)\n",
    "\n",
    "df_result.head(10)"
   ]
  },
  {
   "cell_type": "code",
   "execution_count": null,
   "id": "9cbe5b2e-7317-4793-a735-3be60c0fa892",
   "metadata": {},
   "outputs": [],
   "source": [
    "df_result.to_csv('xgb__result.csv', index=False)"
   ]
  },
  {
   "cell_type": "code",
   "execution_count": null,
   "id": "8c3916a2-2bda-489e-a5cc-d0e3d8fb9286",
   "metadata": {},
   "outputs": [],
   "source": [
    "gs_xgb_pred = best_gs_xgb.predict(scaled_df_test).reshape(-1,1)\n",
    "gs_xgb_pred2 = best_gs_xgb2.predict(scaled_df_test).reshape(-1,1)\n",
    "gs_xgb_pred3 = best_gs_xgb3.predict(scaled_df_test).reshape(-1,1)"
   ]
  },
  {
   "cell_type": "code",
   "execution_count": null,
   "id": "f1e222d0-7c61-45da-805c-447590cf2bc1",
   "metadata": {},
   "outputs": [],
   "source": [
    "gs_xgb_pred_total = np.concatenate([gs_xgb_pred, gs_xgb_pred2, gs_xgb_pred3], axis=1)\n",
    "\n",
    "df_ID = df_test['ID']\n",
    "df_pred = pd.DataFrame(gs_xgb_pred_total, columns=['label_역률평균', 'label_전류고조파평균', 'label_전압고조파평균'])\n",
    "\n",
    "df_result = pd.concat([df_ID, df_pred], axis=1)\n",
    "\n",
    "df_result['label_역률평균'].replace({0:'정상', 1:'주의', 2:'경고'}, inplace=True)\n",
    "df_result['label_전류고조파평균'].replace({0:'정상', 1:'주의', 2:'경고'}, inplace=True)\n",
    "df_result['label_전압고조파평균'].replace({0:'정상', 1:'주의', 2:'경고'}, inplace=True)\n",
    "\n",
    "df_result.head(10)"
   ]
  },
  {
   "cell_type": "code",
   "execution_count": null,
   "id": "794c6881-6d84-4f71-bce5-52fdabfc3148",
   "metadata": {},
   "outputs": [],
   "source": [
    "df_result.to_csv('gs_xgb_zero_st_result.csv', index=False)"
   ]
  }
 ],
 "metadata": {
  "kernelspec": {
   "display_name": "Python 3",
   "language": "python",
   "name": "python3"
  },
  "language_info": {
   "codemirror_mode": {
    "name": "ipython",
    "version": 3
   },
   "file_extension": ".py",
   "mimetype": "text/x-python",
   "name": "python",
   "nbconvert_exporter": "python",
   "pygments_lexer": "ipython3",
   "version": "3.8.8"
  }
 },
 "nbformat": 4,
 "nbformat_minor": 5
}
